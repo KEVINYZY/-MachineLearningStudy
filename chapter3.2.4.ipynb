{
 "cells": [
  {
   "cell_type": "code",
   "execution_count": 1,
   "metadata": {
    "collapsed": true
   },
   "outputs": [],
   "source": [
    "import tensorflow as tf"
   ]
  },
  {
   "cell_type": "code",
   "execution_count": 2,
   "metadata": {
    "collapsed": true
   },
   "outputs": [],
   "source": [
    "import numpy as np"
   ]
  },
  {
   "cell_type": "code",
   "execution_count": 3,
   "metadata": {
    "collapsed": true
   },
   "outputs": [],
   "source": [
    "greeting = tf.constant('Hello Google Tensorflow')"
   ]
  },
  {
   "cell_type": "code",
   "execution_count": 4,
   "metadata": {
    "collapsed": true
   },
   "outputs": [],
   "source": [
    "sess = tf.Session()"
   ]
  },
  {
   "cell_type": "code",
   "execution_count": 5,
   "metadata": {
    "collapsed": true
   },
   "outputs": [],
   "source": [
    "result = sess.run(greeting)"
   ]
  },
  {
   "cell_type": "code",
   "execution_count": 6,
   "metadata": {},
   "outputs": [
    {
     "name": "stdout",
     "output_type": "stream",
     "text": [
      "Hello Google Tensorflow\n"
     ]
    }
   ],
   "source": [
    "print   result"
   ]
  },
  {
   "cell_type": "code",
   "execution_count": 8,
   "metadata": {},
   "outputs": [],
   "source": [
    "sess.close()"
   ]
  },
  {
   "cell_type": "code",
   "execution_count": 9,
   "metadata": {
    "collapsed": true
   },
   "outputs": [],
   "source": [
    "# 使用Tensorflow完成一次线性函数的计算"
   ]
  },
  {
   "cell_type": "code",
   "execution_count": 10,
   "metadata": {
    "collapsed": true
   },
   "outputs": [],
   "source": [
    "matrix1 = tf.constant([[3.,3.]])"
   ]
  },
  {
   "cell_type": "code",
   "execution_count": 11,
   "metadata": {
    "collapsed": true
   },
   "outputs": [],
   "source": [
    "matrix2 = tf.constant([[2.0],[2.]])"
   ]
  },
  {
   "cell_type": "code",
   "execution_count": 13,
   "metadata": {},
   "outputs": [],
   "source": [
    "product = tf.matmul(matrix1,matrix2)"
   ]
  },
  {
   "cell_type": "code",
   "execution_count": 15,
   "metadata": {},
   "outputs": [],
   "source": [
    "linear = tf.add(product,tf.constant(2.0))"
   ]
  },
  {
   "cell_type": "code",
   "execution_count": 16,
   "metadata": {},
   "outputs": [
    {
     "name": "stdout",
     "output_type": "stream",
     "text": [
      "[[ 14.]]\n"
     ]
    }
   ],
   "source": [
    "with tf.Session() as sess:\n",
    "    result = sess.run(linear)\n",
    "    print result"
   ]
  },
  {
   "cell_type": "code",
   "execution_count": 17,
   "metadata": {
    "collapsed": true
   },
   "outputs": [],
   "source": [
    "import pandas as pd"
   ]
  },
  {
   "cell_type": "code",
   "execution_count": 19,
   "metadata": {},
   "outputs": [],
   "source": [
    "train = pd.read_csv('Datasets/Breast-Cancer/breast-cancer-train.csv')"
   ]
  },
  {
   "cell_type": "code",
   "execution_count": 20,
   "metadata": {
    "collapsed": true
   },
   "outputs": [],
   "source": [
    "test = pd.read_csv('Datasets/Breast-Cancer/breast-cancer-test.csv')"
   ]
  },
  {
   "cell_type": "code",
   "execution_count": 21,
   "metadata": {
    "collapsed": true
   },
   "outputs": [],
   "source": [
    "# 分割特征与分类目标"
   ]
  },
  {
   "cell_type": "code",
   "execution_count": 22,
   "metadata": {
    "collapsed": true
   },
   "outputs": [],
   "source": [
    "X_train = np.float32(train[['Clump Thickness','Cell Size']].T)"
   ]
  },
  {
   "cell_type": "code",
   "execution_count": 23,
   "metadata": {
    "collapsed": true
   },
   "outputs": [],
   "source": [
    "y_train = np.float32(train['Type'].T)"
   ]
  },
  {
   "cell_type": "code",
   "execution_count": 24,
   "metadata": {
    "collapsed": true
   },
   "outputs": [],
   "source": [
    "X_test = np.float32(test[['Clump Thickness','Cell Size']].T)\n",
    "y_test = np.float32(test['Type'].T)"
   ]
  },
  {
   "cell_type": "code",
   "execution_count": 25,
   "metadata": {
    "collapsed": true
   },
   "outputs": [],
   "source": [
    "# 定义一个tf的变量b作为线性模型的截距，同时设置初始值为1.0"
   ]
  },
  {
   "cell_type": "code",
   "execution_count": 29,
   "metadata": {
    "collapsed": true
   },
   "outputs": [],
   "source": [
    "b = tf.Variable(tf.zeros([1]))"
   ]
  },
  {
   "cell_type": "code",
   "execution_count": 30,
   "metadata": {
    "collapsed": true
   },
   "outputs": [],
   "source": [
    "W = tf.Variable(tf.random_uniform([1,2],-1.0,1.0))"
   ]
  },
  {
   "cell_type": "code",
   "execution_count": 31,
   "metadata": {
    "collapsed": true
   },
   "outputs": [],
   "source": [
    "# 显示定义这个线性函数"
   ]
  },
  {
   "cell_type": "code",
   "execution_count": 32,
   "metadata": {},
   "outputs": [],
   "source": [
    "y = tf.matmul(W,X_train)+b"
   ]
  },
  {
   "cell_type": "code",
   "execution_count": 33,
   "metadata": {
    "collapsed": true
   },
   "outputs": [],
   "source": [
    "loss = tf.reduce_mean(tf.square(y-y_train))"
   ]
  },
  {
   "cell_type": "code",
   "execution_count": 35,
   "metadata": {
    "collapsed": true
   },
   "outputs": [],
   "source": [
    "optimizer = tf.train.GradientDescentOptimizer(0.01)"
   ]
  },
  {
   "cell_type": "code",
   "execution_count": 36,
   "metadata": {
    "collapsed": true
   },
   "outputs": [],
   "source": [
    "# 以最小二乘损失为优化目标"
   ]
  },
  {
   "cell_type": "code",
   "execution_count": 37,
   "metadata": {
    "collapsed": true
   },
   "outputs": [],
   "source": [
    "train = optimizer.minimize(loss)"
   ]
  },
  {
   "cell_type": "code",
   "execution_count": 38,
   "metadata": {
    "collapsed": true
   },
   "outputs": [],
   "source": [
    "# 初始化所有变量"
   ]
  },
  {
   "cell_type": "code",
   "execution_count": 39,
   "metadata": {},
   "outputs": [
    {
     "name": "stdout",
     "output_type": "stream",
     "text": [
      "WARNING:tensorflow:From <ipython-input-39-0f50547c66e8>:1: initialize_all_variables (from tensorflow.python.ops.variables) is deprecated and will be removed after 2017-03-02.\n",
      "Instructions for updating:\n",
      "Use `tf.global_variables_initializer` instead.\n"
     ]
    }
   ],
   "source": [
    "init = tf.initialize_all_variables()"
   ]
  },
  {
   "cell_type": "code",
   "execution_count": 40,
   "metadata": {
    "collapsed": true
   },
   "outputs": [],
   "source": [
    "sess = tf.Session()"
   ]
  },
  {
   "cell_type": "code",
   "execution_count": 42,
   "metadata": {},
   "outputs": [],
   "source": [
    "sess.run(init)"
   ]
  },
  {
   "cell_type": "code",
   "execution_count": 43,
   "metadata": {},
   "outputs": [
    {
     "name": "stdout",
     "output_type": "stream",
     "text": [
      "0 [[ 0.11729233 -0.13017535]] [ 0.03735097]\n",
      "20 [[ 0.14918801 -0.03195552]] [ 0.02878561]\n",
      "40 [[ 0.1259501  -0.00623581]] [ 0.01187738]\n",
      "60 [[ 0.1086702   0.01324094]] [-0.00277967]\n",
      "80 [[ 0.09581318  0.02802525]] [-0.01542141]\n",
      "100 [[ 0.08624071  0.0392764 ]] [-0.02627933]\n",
      "120 [[ 0.07910845  0.04786224]] [-0.03557236]\n",
      "140 [[ 0.07379002  0.05443324]] [-0.04350242]\n",
      "160 [[ 0.0698205   0.05947777]] [-0.05025229]\n",
      "180 [[ 0.06685478  0.06336297]] [-0.05598517]\n",
      "200 [[ 0.06463652  0.06636544]] [-0.06084527]\n",
      "220 [[ 0.06297526  0.06869387]] [-0.06495886]\n",
      "240 [[ 0.06172943  0.07050613]] [-0.06843577]\n",
      "260 [[ 0.06079372  0.07192187]] [-0.07137103]\n",
      "280 [[ 0.06008977  0.07303199]] [-0.07384641]\n",
      "300 [[ 0.05955921  0.07390578]] [-0.07593209]\n",
      "320 [[ 0.05915854  0.07459614]] [-0.077688]\n",
      "340 [[ 0.0588553   0.07514364]] [-0.07916529]\n",
      "360 [[ 0.05862527  0.07557943]] [-0.0804074]\n",
      "380 [[ 0.05845033  0.07592758]] [-0.08145122]\n",
      "400 [[ 0.05831693  0.07620668]] [-0.08232798]\n",
      "420 [[ 0.05821492  0.07643119]] [-0.08306411]\n",
      "440 [[ 0.05813667  0.07661237]] [-0.08368197]\n",
      "460 [[ 0.05807645  0.07675904]] [-0.08420039]\n",
      "480 [[ 0.05802995  0.07687812]] [-0.08463524]\n",
      "500 [[ 0.05799392  0.07697506]] [-0.08499991]\n",
      "520 [[ 0.05796592  0.07705417]] [-0.08530564]\n",
      "540 [[ 0.05794405  0.0771189 ]] [-0.08556194]\n",
      "560 [[ 0.05792692  0.07717197]] [-0.08577675]\n",
      "580 [[ 0.05791345  0.07721558]] [-0.08595677]\n",
      "600 [[ 0.05790282  0.07725148]] [-0.0861076]\n",
      "620 [[ 0.05789439  0.07728107]] [-0.08623398]\n",
      "640 [[ 0.0578877   0.07730551]] [-0.08633985]\n",
      "660 [[ 0.05788235  0.07732572]] [-0.08642851]\n",
      "680 [[ 0.05787807  0.07734245]] [-0.08650279]\n",
      "700 [[ 0.05787462  0.07735633]] [-0.086565]\n",
      "720 [[ 0.05787185  0.07736785]] [-0.0866171]\n",
      "740 [[ 0.05786961  0.07737741]] [-0.08666074]\n",
      "760 [[ 0.05786779  0.07738535]] [-0.08669726]\n",
      "780 [[ 0.05786631  0.07739197]] [-0.08672784]\n",
      "800 [[ 0.0578651   0.07739748]] [-0.08675344]\n",
      "820 [[ 0.05786411  0.07740206]] [-0.08677488]\n",
      "840 [[ 0.05786331  0.07740588]] [-0.08679286]\n",
      "860 [[ 0.05786265  0.07740907]] [-0.08680788]\n",
      "880 [[ 0.0578621   0.07741173]] [-0.08682046]\n",
      "900 [[ 0.05786165  0.07741395]] [-0.086831]\n",
      "920 [[ 0.05786128  0.07741581]] [-0.0868398]\n",
      "940 [[ 0.05786096  0.07741735]] [-0.08684718]\n",
      "960 [[ 0.05786071  0.07741865]] [-0.08685336]\n",
      "980 [[ 0.0578605   0.07741973]] [-0.08685853]\n"
     ]
    }
   ],
   "source": [
    "for step in xrange(0,1000):\n",
    "    sess.run(train)\n",
    "    if(step%20==0):\n",
    "        print step,sess.run(W),sess.run(b)"
   ]
  },
  {
   "cell_type": "code",
   "execution_count": null,
   "metadata": {
    "collapsed": true
   },
   "outputs": [],
   "source": []
  }
 ],
 "metadata": {
  "kernelspec": {
   "display_name": "Python 2",
   "language": "python",
   "name": "python2"
  },
  "language_info": {
   "codemirror_mode": {
    "name": "ipython",
    "version": 2
   },
   "file_extension": ".py",
   "mimetype": "text/x-python",
   "name": "python",
   "nbconvert_exporter": "python",
   "pygments_lexer": "ipython2",
   "version": "2.7.13"
  }
 },
 "nbformat": 4,
 "nbformat_minor": 2
}
