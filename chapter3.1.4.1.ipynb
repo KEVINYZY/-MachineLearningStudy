{
 "cells": [
  {
   "cell_type": "code",
   "execution_count": 91,
   "metadata": {
    "collapsed": true
   },
   "outputs": [],
   "source": [
    "# 从sklearn.datasets中导入20累新闻文本抓取器"
   ]
  },
  {
   "cell_type": "code",
   "execution_count": 92,
   "metadata": {
    "collapsed": true
   },
   "outputs": [],
   "source": [
    "from sklearn.datasets import fetch_20newsgroups"
   ]
  },
  {
   "cell_type": "code",
   "execution_count": 93,
   "metadata": {
    "collapsed": true
   },
   "outputs": [],
   "source": [
    "# 导入numpy并且重命名为np"
   ]
  },
  {
   "cell_type": "code",
   "execution_count": 94,
   "metadata": {
    "collapsed": true
   },
   "outputs": [],
   "source": [
    "import numpy as np"
   ]
  },
  {
   "cell_type": "code",
   "execution_count": 95,
   "metadata": {
    "collapsed": true
   },
   "outputs": [],
   "source": [
    "# 使用新闻抓取器从互联网上下载所有数据，并且存储在变量news中"
   ]
  },
  {
   "cell_type": "code",
   "execution_count": 96,
   "metadata": {
    "collapsed": true
   },
   "outputs": [],
   "source": [
    "news = fetch_20newsgroups(subset = 'all')"
   ]
  },
  {
   "cell_type": "code",
   "execution_count": 97,
   "metadata": {
    "collapsed": true
   },
   "outputs": [],
   "source": [
    "from sklearn.cross_validation import  train_test_split"
   ]
  },
  {
   "cell_type": "code",
   "execution_count": 98,
   "metadata": {
    "collapsed": true
   },
   "outputs": [],
   "source": [
    "X_train,X_test,y_train,y_test = train_test_split(news.data[:3000],news.target[:3000],test_size=0.25,random_state=33)"
   ]
  },
  {
   "cell_type": "code",
   "execution_count": 99,
   "metadata": {
    "collapsed": true
   },
   "outputs": [],
   "source": [
    "from sklearn.svm import  SVC"
   ]
  },
  {
   "cell_type": "code",
   "execution_count": 100,
   "metadata": {
    "collapsed": true
   },
   "outputs": [],
   "source": [
    "#导入文本抽取器"
   ]
  },
  {
   "cell_type": "code",
   "execution_count": 101,
   "metadata": {},
   "outputs": [],
   "source": [
    "from sklearn.feature_extraction.text import  TfidfVectorizer"
   ]
  },
  {
   "cell_type": "code",
   "execution_count": 102,
   "metadata": {
    "collapsed": true
   },
   "outputs": [],
   "source": [
    "from sklearn.pipeline import Pipeline"
   ]
  },
  {
   "cell_type": "code",
   "execution_count": 103,
   "metadata": {
    "collapsed": true
   },
   "outputs": [],
   "source": [
    "# 使用Pipeline简化系统搭建流程，将文本抽取器和分类器模型串联起来"
   ]
  },
  {
   "cell_type": "code",
   "execution_count": 114,
   "metadata": {
    "collapsed": true
   },
   "outputs": [],
   "source": [
    "clf = Pipeline([('vect',TfidfVectorizer(stop_words='english',analyzer='word')),('svc',SVC())])"
   ]
  },
  {
   "cell_type": "code",
   "execution_count": 115,
   "metadata": {
    "collapsed": true
   },
   "outputs": [],
   "source": [
    "parameters = {'svc__gamma': np.logspace(-2,1,4), 'svc__C': np.logspace(-1,1,3)}"
   ]
  },
  {
   "cell_type": "code",
   "execution_count": 116,
   "metadata": {
    "collapsed": true
   },
   "outputs": [],
   "source": [
    "from sklearn.grid_search import GridSearchCV"
   ]
  },
  {
   "cell_type": "code",
   "execution_count": 123,
   "metadata": {
    "collapsed": true
   },
   "outputs": [],
   "source": [
    "gs = GridSearchCV(clf, parameters, verbose=2, refit=True, cv=3 ,n_jobs=-1)"
   ]
  },
  {
   "cell_type": "code",
   "execution_count": 124,
   "metadata": {
    "collapsed": true
   },
   "outputs": [],
   "source": [
    "# 执行单线程网格搜索"
   ]
  },
  {
   "cell_type": "code",
   "execution_count": 125,
   "metadata": {},
   "outputs": [
    {
     "name": "stdout",
     "output_type": "stream",
     "text": [
      "Fitting 3 folds for each of 12 candidates, totalling 36 fits\n",
      "[CV] svc__gamma=0.01, svc__C=0.1 .....................................\n",
      "[CV] svc__gamma=0.01, svc__C=0.1 .....................................\n",
      "[CV] svc__gamma=0.01, svc__C=0.1 .....................................\n",
      "[CV] svc__gamma=0.1, svc__C=0.1 ......................................\n",
      "[CV] ............................ svc__gamma=0.01, svc__C=0.1 -   8.1s\n",
      "[CV] svc__gamma=0.1, svc__C=0.1 ......................................\n",
      "[CV] ............................. svc__gamma=0.1, svc__C=0.1 -   8.2s\n",
      "[CV] svc__gamma=0.1, svc__C=0.1 ......................................\n",
      "[CV] ............................ svc__gamma=0.01, svc__C=0.1 -   8.4s\n",
      "[CV] svc__gamma=1.0, svc__C=0.1 ......................................\n",
      "[CV] ............................ svc__gamma=0.01, svc__C=0.1 -   8.5s\n",
      "[CV] svc__gamma=1.0, svc__C=0.1 ......................................\n",
      "[CV] ............................. svc__gamma=0.1, svc__C=0.1 -   8.2s\n",
      "[CV] svc__gamma=1.0, svc__C=0.1 ......................................\n",
      "[CV] ............................. svc__gamma=1.0, svc__C=0.1 -   8.3s\n",
      "[CV] svc__gamma=10.0, svc__C=0.1 .....................................\n",
      "[CV] ............................. svc__gamma=0.1, svc__C=0.1 -   8.5s\n",
      "[CV] svc__gamma=10.0, svc__C=0.1 .....................................\n",
      "[CV] ............................. svc__gamma=1.0, svc__C=0.1 -   8.3s\n",
      "[CV] svc__gamma=10.0, svc__C=0.1 .....................................\n",
      "[CV] ............................. svc__gamma=1.0, svc__C=0.1 -   8.4s\n",
      "[CV] svc__gamma=0.01, svc__C=1.0 .....................................\n",
      "[CV] ............................ svc__gamma=10.0, svc__C=0.1 -   8.2s\n",
      "[CV] svc__gamma=0.01, svc__C=1.0 .....................................\n",
      "[CV] ............................ svc__gamma=10.0, svc__C=0.1 -   8.4s\n",
      "[CV] svc__gamma=0.01, svc__C=1.0 .....................................\n",
      "[CV] ............................ svc__gamma=10.0, svc__C=0.1 -   8.5s\n",
      "[CV] svc__gamma=0.1, svc__C=1.0 ......................................\n",
      "[CV] ............................ svc__gamma=0.01, svc__C=1.0 -   7.9s\n",
      "[CV] svc__gamma=0.1, svc__C=1.0 ......................................\n",
      "[CV] ............................ svc__gamma=0.01, svc__C=1.0 -   7.9s\n",
      "[CV] svc__gamma=0.1, svc__C=1.0 ......................................\n",
      "[CV] ............................. svc__gamma=0.1, svc__C=1.0 -   7.8s\n",
      "[CV] svc__gamma=1.0, svc__C=1.0 ......................................\n",
      "[CV] ............................ svc__gamma=0.01, svc__C=1.0 -   8.1s\n",
      "[CV] svc__gamma=1.0, svc__C=1.0 ......................................\n",
      "[CV] ............................. svc__gamma=0.1, svc__C=1.0 -   8.0s\n",
      "[CV] svc__gamma=1.0, svc__C=1.0 ......................................\n",
      "[CV] ............................. svc__gamma=0.1, svc__C=1.0 -   8.0s\n",
      "[CV] svc__gamma=10.0, svc__C=1.0 .....................................\n",
      "[CV] ............................. svc__gamma=1.0, svc__C=1.0 -   7.8s\n",
      "[CV] svc__gamma=10.0, svc__C=1.0 .....................................\n",
      "[CV] ............................. svc__gamma=1.0, svc__C=1.0 -   8.0s\n",
      "[CV] svc__gamma=10.0, svc__C=1.0 .....................................\n",
      "[CV] ............................. svc__gamma=1.0, svc__C=1.0 -   8.0s\n",
      "[CV] svc__gamma=0.01, svc__C=10.0 ....................................\n",
      "[CV] ............................ svc__gamma=10.0, svc__C=1.0 -   8.0s\n",
      "[CV] svc__gamma=0.01, svc__C=10.0 ....................................\n",
      "[CV] ............................ svc__gamma=10.0, svc__C=1.0 -   8.0s\n",
      "[CV] svc__gamma=0.01, svc__C=10.0 ....................................\n",
      "[CV] ............................ svc__gamma=10.0, svc__C=1.0 -   8.2s\n",
      "[CV] svc__gamma=0.1, svc__C=10.0 .....................................\n",
      "[CV] ........................... svc__gamma=0.01, svc__C=10.0 -   7.8s\n",
      "[CV] svc__gamma=0.1, svc__C=10.0 .....................................\n",
      "[CV] ........................... svc__gamma=0.01, svc__C=10.0 -   7.9s\n",
      "[CV] svc__gamma=0.1, svc__C=10.0 .....................................\n",
      "[CV] ........................... svc__gamma=0.01, svc__C=10.0 -   8.0s\n",
      "[CV] svc__gamma=1.0, svc__C=10.0 .....................................\n",
      "[CV] ............................ svc__gamma=0.1, svc__C=10.0 -   7.8s\n",
      "[CV] svc__gamma=1.0, svc__C=10.0 .....................................\n",
      "[CV] ............................ svc__gamma=0.1, svc__C=10.0 -   7.7s\n",
      "[CV] svc__gamma=1.0, svc__C=10.0 .....................................\n",
      "[CV] ............................ svc__gamma=0.1, svc__C=10.0 -   8.0s\n",
      "[CV] svc__gamma=10.0, svc__C=10.0 ....................................\n",
      "[CV] ............................ svc__gamma=1.0, svc__C=10.0 -   7.8s\n",
      "[CV] svc__gamma=10.0, svc__C=10.0 ....................................\n",
      "[CV] ............................ svc__gamma=1.0, svc__C=10.0 -   8.0s\n",
      "[CV] svc__gamma=10.0, svc__C=10.0 ....................................\n",
      "[CV] ............................ svc__gamma=1.0, svc__C=10.0 -   8.3s\n",
      "[CV] ........................... svc__gamma=10.0, svc__C=10.0 -   8.0s\n",
      "[CV] ........................... svc__gamma=10.0, svc__C=10.0 -   8.0s\n",
      "[CV] ........................... svc__gamma=10.0, svc__C=10.0 -   8.0s\n"
     ]
    },
    {
     "name": "stderr",
     "output_type": "stream",
     "text": [
      "[Parallel(n_jobs=-1)]: Done  36 out of  36 | elapsed:  1.2min finished\n"
     ]
    },
    {
     "name": "stdout",
     "output_type": "stream",
     "text": [
      "CPU times: user 10.7 s, sys: 418 ms, total: 11.1 s\n",
      "Wall time: 1min 23s\n"
     ]
    },
    {
     "data": {
      "text/plain": [
       "({'svc__C': 10.0, 'svc__gamma': 0.10000000000000001}, 0.7906666666666666)"
      ]
     },
     "execution_count": 125,
     "metadata": {},
     "output_type": "execute_result"
    }
   ],
   "source": [
    "%time _= gs.fit(X_train, y_train)\n",
    "gs.best_params_, gs.best_score_"
   ]
  },
  {
   "cell_type": "code",
   "execution_count": 126,
   "metadata": {},
   "outputs": [
    {
     "name": "stdout",
     "output_type": "stream",
     "text": [
      "0.822666666667\n"
     ]
    }
   ],
   "source": [
    "print gs.score(X_test,y_test)"
   ]
  },
  {
   "cell_type": "code",
   "execution_count": null,
   "metadata": {
    "collapsed": true
   },
   "outputs": [],
   "source": []
  },
  {
   "cell_type": "code",
   "execution_count": null,
   "metadata": {
    "collapsed": true
   },
   "outputs": [],
   "source": []
  },
  {
   "cell_type": "code",
   "execution_count": null,
   "metadata": {
    "collapsed": true
   },
   "outputs": [],
   "source": []
  },
  {
   "cell_type": "code",
   "execution_count": null,
   "metadata": {
    "collapsed": true
   },
   "outputs": [],
   "source": []
  }
 ],
 "metadata": {
  "kernelspec": {
   "display_name": "Python 2",
   "language": "python",
   "name": "python2"
  },
  "language_info": {
   "codemirror_mode": {
    "name": "ipython",
    "version": 2
   },
   "file_extension": ".py",
   "mimetype": "text/x-python",
   "name": "python",
   "nbconvert_exporter": "python",
   "pygments_lexer": "ipython2",
   "version": "2.7.13"
  }
 },
 "nbformat": 4,
 "nbformat_minor": 2
}
