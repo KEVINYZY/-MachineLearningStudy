{
 "cells": [
  {
   "cell_type": "code",
   "execution_count": 112,
   "metadata": {
    "collapsed": true
   },
   "outputs": [],
   "source": [
    "# 导入pandas并且更名为pd"
   ]
  },
  {
   "cell_type": "code",
   "execution_count": 113,
   "metadata": {
    "collapsed": true
   },
   "outputs": [],
   "source": [
    "import pandas as pd"
   ]
  },
  {
   "cell_type": "code",
   "execution_count": 114,
   "metadata": {
    "collapsed": true
   },
   "outputs": [],
   "source": [
    "titanic = pd.read_csv('http://biostat.mc.vanderbilt.edu/wiki/pub/Main/DataSets/titanic.txt')"
   ]
  },
  {
   "cell_type": "code",
   "execution_count": 115,
   "metadata": {},
   "outputs": [
    {
     "data": {
      "text/html": [
       "<div>\n",
       "<style>\n",
       "    .dataframe thead tr:only-child th {\n",
       "        text-align: right;\n",
       "    }\n",
       "\n",
       "    .dataframe thead th {\n",
       "        text-align: left;\n",
       "    }\n",
       "\n",
       "    .dataframe tbody tr th {\n",
       "        vertical-align: top;\n",
       "    }\n",
       "</style>\n",
       "<table border=\"1\" class=\"dataframe\">\n",
       "  <thead>\n",
       "    <tr style=\"text-align: right;\">\n",
       "      <th></th>\n",
       "      <th>row.names</th>\n",
       "      <th>pclass</th>\n",
       "      <th>survived</th>\n",
       "      <th>name</th>\n",
       "      <th>age</th>\n",
       "      <th>embarked</th>\n",
       "      <th>home.dest</th>\n",
       "      <th>room</th>\n",
       "      <th>ticket</th>\n",
       "      <th>boat</th>\n",
       "      <th>sex</th>\n",
       "    </tr>\n",
       "  </thead>\n",
       "  <tbody>\n",
       "    <tr>\n",
       "      <th>0</th>\n",
       "      <td>1</td>\n",
       "      <td>1st</td>\n",
       "      <td>1</td>\n",
       "      <td>Allen, Miss Elisabeth Walton</td>\n",
       "      <td>29.0000</td>\n",
       "      <td>Southampton</td>\n",
       "      <td>St Louis, MO</td>\n",
       "      <td>B-5</td>\n",
       "      <td>24160 L221</td>\n",
       "      <td>2</td>\n",
       "      <td>female</td>\n",
       "    </tr>\n",
       "    <tr>\n",
       "      <th>1</th>\n",
       "      <td>2</td>\n",
       "      <td>1st</td>\n",
       "      <td>0</td>\n",
       "      <td>Allison, Miss Helen Loraine</td>\n",
       "      <td>2.0000</td>\n",
       "      <td>Southampton</td>\n",
       "      <td>Montreal, PQ / Chesterville, ON</td>\n",
       "      <td>C26</td>\n",
       "      <td>NaN</td>\n",
       "      <td>NaN</td>\n",
       "      <td>female</td>\n",
       "    </tr>\n",
       "    <tr>\n",
       "      <th>2</th>\n",
       "      <td>3</td>\n",
       "      <td>1st</td>\n",
       "      <td>0</td>\n",
       "      <td>Allison, Mr Hudson Joshua Creighton</td>\n",
       "      <td>30.0000</td>\n",
       "      <td>Southampton</td>\n",
       "      <td>Montreal, PQ / Chesterville, ON</td>\n",
       "      <td>C26</td>\n",
       "      <td>NaN</td>\n",
       "      <td>(135)</td>\n",
       "      <td>male</td>\n",
       "    </tr>\n",
       "    <tr>\n",
       "      <th>3</th>\n",
       "      <td>4</td>\n",
       "      <td>1st</td>\n",
       "      <td>0</td>\n",
       "      <td>Allison, Mrs Hudson J.C. (Bessie Waldo Daniels)</td>\n",
       "      <td>25.0000</td>\n",
       "      <td>Southampton</td>\n",
       "      <td>Montreal, PQ / Chesterville, ON</td>\n",
       "      <td>C26</td>\n",
       "      <td>NaN</td>\n",
       "      <td>NaN</td>\n",
       "      <td>female</td>\n",
       "    </tr>\n",
       "    <tr>\n",
       "      <th>4</th>\n",
       "      <td>5</td>\n",
       "      <td>1st</td>\n",
       "      <td>1</td>\n",
       "      <td>Allison, Master Hudson Trevor</td>\n",
       "      <td>0.9167</td>\n",
       "      <td>Southampton</td>\n",
       "      <td>Montreal, PQ / Chesterville, ON</td>\n",
       "      <td>C22</td>\n",
       "      <td>NaN</td>\n",
       "      <td>11</td>\n",
       "      <td>male</td>\n",
       "    </tr>\n",
       "  </tbody>\n",
       "</table>\n",
       "</div>"
      ],
      "text/plain": [
       "   row.names pclass  survived  \\\n",
       "0          1    1st         1   \n",
       "1          2    1st         0   \n",
       "2          3    1st         0   \n",
       "3          4    1st         0   \n",
       "4          5    1st         1   \n",
       "\n",
       "                                              name      age     embarked  \\\n",
       "0                     Allen, Miss Elisabeth Walton  29.0000  Southampton   \n",
       "1                      Allison, Miss Helen Loraine   2.0000  Southampton   \n",
       "2              Allison, Mr Hudson Joshua Creighton  30.0000  Southampton   \n",
       "3  Allison, Mrs Hudson J.C. (Bessie Waldo Daniels)  25.0000  Southampton   \n",
       "4                    Allison, Master Hudson Trevor   0.9167  Southampton   \n",
       "\n",
       "                         home.dest room      ticket   boat     sex  \n",
       "0                     St Louis, MO  B-5  24160 L221      2  female  \n",
       "1  Montreal, PQ / Chesterville, ON  C26         NaN    NaN  female  \n",
       "2  Montreal, PQ / Chesterville, ON  C26         NaN  (135)    male  \n",
       "3  Montreal, PQ / Chesterville, ON  C26         NaN    NaN  female  \n",
       "4  Montreal, PQ / Chesterville, ON  C22         NaN     11    male  "
      ]
     },
     "execution_count": 115,
     "metadata": {},
     "output_type": "execute_result"
    }
   ],
   "source": [
    "titanic.head()\n",
    "# 分离数据特征和预测目标"
   ]
  },
  {
   "cell_type": "code",
   "execution_count": 116,
   "metadata": {
    "collapsed": true
   },
   "outputs": [],
   "source": [
    "y = titanic['survived']\n",
    "X = titanic.drop(['row.names','name','survived'],axis=1)"
   ]
  },
  {
   "cell_type": "code",
   "execution_count": 117,
   "metadata": {
    "collapsed": true
   },
   "outputs": [],
   "source": [
    "# 对缺失数据进行补充"
   ]
  },
  {
   "cell_type": "code",
   "execution_count": 118,
   "metadata": {},
   "outputs": [
    {
     "data": {
      "text/html": [
       "<div>\n",
       "<style>\n",
       "    .dataframe thead tr:only-child th {\n",
       "        text-align: right;\n",
       "    }\n",
       "\n",
       "    .dataframe thead th {\n",
       "        text-align: left;\n",
       "    }\n",
       "\n",
       "    .dataframe tbody tr th {\n",
       "        vertical-align: top;\n",
       "    }\n",
       "</style>\n",
       "<table border=\"1\" class=\"dataframe\">\n",
       "  <thead>\n",
       "    <tr style=\"text-align: right;\">\n",
       "      <th></th>\n",
       "      <th>pclass</th>\n",
       "      <th>age</th>\n",
       "      <th>embarked</th>\n",
       "      <th>home.dest</th>\n",
       "      <th>room</th>\n",
       "      <th>ticket</th>\n",
       "      <th>boat</th>\n",
       "      <th>sex</th>\n",
       "    </tr>\n",
       "  </thead>\n",
       "  <tbody>\n",
       "    <tr>\n",
       "      <th>0</th>\n",
       "      <td>1st</td>\n",
       "      <td>29.0000</td>\n",
       "      <td>Southampton</td>\n",
       "      <td>St Louis, MO</td>\n",
       "      <td>B-5</td>\n",
       "      <td>24160 L221</td>\n",
       "      <td>2</td>\n",
       "      <td>female</td>\n",
       "    </tr>\n",
       "    <tr>\n",
       "      <th>1</th>\n",
       "      <td>1st</td>\n",
       "      <td>2.0000</td>\n",
       "      <td>Southampton</td>\n",
       "      <td>Montreal, PQ / Chesterville, ON</td>\n",
       "      <td>C26</td>\n",
       "      <td>NaN</td>\n",
       "      <td>NaN</td>\n",
       "      <td>female</td>\n",
       "    </tr>\n",
       "    <tr>\n",
       "      <th>2</th>\n",
       "      <td>1st</td>\n",
       "      <td>30.0000</td>\n",
       "      <td>Southampton</td>\n",
       "      <td>Montreal, PQ / Chesterville, ON</td>\n",
       "      <td>C26</td>\n",
       "      <td>NaN</td>\n",
       "      <td>(135)</td>\n",
       "      <td>male</td>\n",
       "    </tr>\n",
       "    <tr>\n",
       "      <th>3</th>\n",
       "      <td>1st</td>\n",
       "      <td>25.0000</td>\n",
       "      <td>Southampton</td>\n",
       "      <td>Montreal, PQ / Chesterville, ON</td>\n",
       "      <td>C26</td>\n",
       "      <td>NaN</td>\n",
       "      <td>NaN</td>\n",
       "      <td>female</td>\n",
       "    </tr>\n",
       "    <tr>\n",
       "      <th>4</th>\n",
       "      <td>1st</td>\n",
       "      <td>0.9167</td>\n",
       "      <td>Southampton</td>\n",
       "      <td>Montreal, PQ / Chesterville, ON</td>\n",
       "      <td>C22</td>\n",
       "      <td>NaN</td>\n",
       "      <td>11</td>\n",
       "      <td>male</td>\n",
       "    </tr>\n",
       "  </tbody>\n",
       "</table>\n",
       "</div>"
      ],
      "text/plain": [
       "  pclass      age     embarked                        home.dest room  \\\n",
       "0    1st  29.0000  Southampton                     St Louis, MO  B-5   \n",
       "1    1st   2.0000  Southampton  Montreal, PQ / Chesterville, ON  C26   \n",
       "2    1st  30.0000  Southampton  Montreal, PQ / Chesterville, ON  C26   \n",
       "3    1st  25.0000  Southampton  Montreal, PQ / Chesterville, ON  C26   \n",
       "4    1st   0.9167  Southampton  Montreal, PQ / Chesterville, ON  C22   \n",
       "\n",
       "       ticket   boat     sex  \n",
       "0  24160 L221      2  female  \n",
       "1         NaN    NaN  female  \n",
       "2         NaN  (135)    male  \n",
       "3         NaN    NaN  female  \n",
       "4         NaN     11    male  "
      ]
     },
     "execution_count": 118,
     "metadata": {},
     "output_type": "execute_result"
    }
   ],
   "source": [
    "X['age'].fillna(X['age'].mean(),inplace = True)\n",
    "X.head()"
   ]
  },
  {
   "cell_type": "code",
   "execution_count": 119,
   "metadata": {},
   "outputs": [
    {
     "data": {
      "text/html": [
       "<div>\n",
       "<style>\n",
       "    .dataframe thead tr:only-child th {\n",
       "        text-align: right;\n",
       "    }\n",
       "\n",
       "    .dataframe thead th {\n",
       "        text-align: left;\n",
       "    }\n",
       "\n",
       "    .dataframe tbody tr th {\n",
       "        vertical-align: top;\n",
       "    }\n",
       "</style>\n",
       "<table border=\"1\" class=\"dataframe\">\n",
       "  <thead>\n",
       "    <tr style=\"text-align: right;\">\n",
       "      <th></th>\n",
       "      <th>pclass</th>\n",
       "      <th>age</th>\n",
       "      <th>embarked</th>\n",
       "      <th>home.dest</th>\n",
       "      <th>room</th>\n",
       "      <th>ticket</th>\n",
       "      <th>boat</th>\n",
       "      <th>sex</th>\n",
       "    </tr>\n",
       "  </thead>\n",
       "  <tbody>\n",
       "    <tr>\n",
       "      <th>0</th>\n",
       "      <td>1st</td>\n",
       "      <td>29.0000</td>\n",
       "      <td>Southampton</td>\n",
       "      <td>St Louis, MO</td>\n",
       "      <td>B-5</td>\n",
       "      <td>24160 L221</td>\n",
       "      <td>2</td>\n",
       "      <td>female</td>\n",
       "    </tr>\n",
       "    <tr>\n",
       "      <th>1</th>\n",
       "      <td>1st</td>\n",
       "      <td>2.0000</td>\n",
       "      <td>Southampton</td>\n",
       "      <td>Montreal, PQ / Chesterville, ON</td>\n",
       "      <td>C26</td>\n",
       "      <td>UNKNOWN</td>\n",
       "      <td>UNKNOWN</td>\n",
       "      <td>female</td>\n",
       "    </tr>\n",
       "    <tr>\n",
       "      <th>2</th>\n",
       "      <td>1st</td>\n",
       "      <td>30.0000</td>\n",
       "      <td>Southampton</td>\n",
       "      <td>Montreal, PQ / Chesterville, ON</td>\n",
       "      <td>C26</td>\n",
       "      <td>UNKNOWN</td>\n",
       "      <td>(135)</td>\n",
       "      <td>male</td>\n",
       "    </tr>\n",
       "    <tr>\n",
       "      <th>3</th>\n",
       "      <td>1st</td>\n",
       "      <td>25.0000</td>\n",
       "      <td>Southampton</td>\n",
       "      <td>Montreal, PQ / Chesterville, ON</td>\n",
       "      <td>C26</td>\n",
       "      <td>UNKNOWN</td>\n",
       "      <td>UNKNOWN</td>\n",
       "      <td>female</td>\n",
       "    </tr>\n",
       "    <tr>\n",
       "      <th>4</th>\n",
       "      <td>1st</td>\n",
       "      <td>0.9167</td>\n",
       "      <td>Southampton</td>\n",
       "      <td>Montreal, PQ / Chesterville, ON</td>\n",
       "      <td>C22</td>\n",
       "      <td>UNKNOWN</td>\n",
       "      <td>11</td>\n",
       "      <td>male</td>\n",
       "    </tr>\n",
       "  </tbody>\n",
       "</table>\n",
       "</div>"
      ],
      "text/plain": [
       "  pclass      age     embarked                        home.dest room  \\\n",
       "0    1st  29.0000  Southampton                     St Louis, MO  B-5   \n",
       "1    1st   2.0000  Southampton  Montreal, PQ / Chesterville, ON  C26   \n",
       "2    1st  30.0000  Southampton  Montreal, PQ / Chesterville, ON  C26   \n",
       "3    1st  25.0000  Southampton  Montreal, PQ / Chesterville, ON  C26   \n",
       "4    1st   0.9167  Southampton  Montreal, PQ / Chesterville, ON  C22   \n",
       "\n",
       "       ticket     boat     sex  \n",
       "0  24160 L221        2  female  \n",
       "1     UNKNOWN  UNKNOWN  female  \n",
       "2     UNKNOWN    (135)    male  \n",
       "3     UNKNOWN  UNKNOWN  female  \n",
       "4     UNKNOWN       11    male  "
      ]
     },
     "execution_count": 119,
     "metadata": {},
     "output_type": "execute_result"
    }
   ],
   "source": [
    "X.fillna(\"UNKNOWN\",inplace=True)\n",
    "X.head()"
   ]
  },
  {
   "cell_type": "code",
   "execution_count": 120,
   "metadata": {
    "collapsed": true
   },
   "outputs": [],
   "source": [
    "# 分割数据，依然采用25%用于测试"
   ]
  },
  {
   "cell_type": "code",
   "execution_count": 121,
   "metadata": {
    "collapsed": true
   },
   "outputs": [],
   "source": [
    "from sklearn.cross_validation import  train_test_split"
   ]
  },
  {
   "cell_type": "code",
   "execution_count": 122,
   "metadata": {
    "collapsed": true
   },
   "outputs": [],
   "source": [
    "X_train,X_test,y_train,y_test = train_test_split(X,y,test_size=0.25,random_state = 33)"
   ]
  },
  {
   "cell_type": "code",
   "execution_count": 123,
   "metadata": {
    "collapsed": true
   },
   "outputs": [],
   "source": [
    "# 类别型特征向量化"
   ]
  },
  {
   "cell_type": "code",
   "execution_count": 124,
   "metadata": {
    "collapsed": true
   },
   "outputs": [],
   "source": [
    "from sklearn.feature_extraction import DictVectorizer"
   ]
  },
  {
   "cell_type": "code",
   "execution_count": 125,
   "metadata": {
    "collapsed": true
   },
   "outputs": [],
   "source": [
    "vec = DictVectorizer()"
   ]
  },
  {
   "cell_type": "code",
   "execution_count": 126,
   "metadata": {},
   "outputs": [],
   "source": [
    "X_train = vec.fit_transform(X_train.to_dict(orient = 'record'))"
   ]
  },
  {
   "cell_type": "code",
   "execution_count": 127,
   "metadata": {},
   "outputs": [],
   "source": [
    "X_test = vec.transform(X_test.to_dict(orient='record'))"
   ]
  },
  {
   "cell_type": "code",
   "execution_count": 128,
   "metadata": {},
   "outputs": [
    {
     "name": "stdout",
     "output_type": "stream",
     "text": [
      "474\n"
     ]
    }
   ],
   "source": [
    "print len(vec.feature_names_)"
   ]
  },
  {
   "cell_type": "code",
   "execution_count": 129,
   "metadata": {},
   "outputs": [
    {
     "name": "stdout",
     "output_type": "stream",
     "text": [
      "[[ 31.19418104   0.           0.         ...,   0.           0.           1.        ]\n",
      " [ 31.19418104   0.           0.         ...,   0.           0.           0.        ]\n",
      " [ 31.19418104   0.           0.         ...,   0.           0.           1.        ]\n",
      " ..., \n",
      " [ 12.           0.           0.         ...,   0.           0.           1.        ]\n",
      " [ 18.           0.           0.         ...,   0.           0.           1.        ]\n",
      " [ 31.19418104   0.           0.         ...,   0.           0.           1.        ]]\n"
     ]
    }
   ],
   "source": [
    "print X_train.toarray()"
   ]
  },
  {
   "cell_type": "code",
   "execution_count": 130,
   "metadata": {},
   "outputs": [
    {
     "name": "stdout",
     "output_type": "stream",
     "text": [
      "['age', 'boat=(103)', 'boat=(108)', 'boat=(109)', 'boat=(110)', 'boat=(122)', 'boat=(124)', 'boat=(126)', 'boat=(135)', 'boat=(140)', 'boat=(142)', 'boat=(148)', 'boat=(149)', 'boat=(15)', 'boat=(165)', 'boat=(171)', 'boat=(172)', 'boat=(174)', 'boat=(18)', 'boat=(189)', 'boat=(19)', 'boat=(190)', 'boat=(209)', 'boat=(22)', 'boat=(230)', 'boat=(232)', 'boat=(234)', 'boat=(236)', 'boat=(241)', 'boat=(245)', 'boat=(249)', 'boat=(258)', 'boat=(259)', 'boat=(263)', 'boat=(269)', 'boat=(275)', 'boat=(283)', 'boat=(286)', 'boat=(287)', 'boat=(292)', 'boat=(293)', 'boat=(307)', 'boat=(322)', 'boat=(38)', 'boat=(45)', 'boat=(46)', 'boat=(52)', 'boat=(62)', 'boat=(72)', 'boat=(75)', 'boat=(79)', 'boat=(80)', 'boat=(81)', 'boat=(89)', 'boat=(96)', 'boat=1', 'boat=10', 'boat=11', 'boat=12', 'boat=13', 'boat=14', 'boat=14/12', 'boat=14/D', 'boat=15', 'boat=16', 'boat=2', 'boat=3', 'boat=4', 'boat=5', 'boat=5/7', 'boat=6', 'boat=7', 'boat=8', 'boat=9', 'boat=A', 'boat=B', 'boat=C', 'boat=D', 'boat=UNKNOWN', 'embarked=Cherbourg', 'embarked=Queenstown', 'embarked=Southampton', 'embarked=UNKNOWN', 'home.dest=?Havana, Cuba', 'home.dest=Aberdeen / Portland, OR', 'home.dest=Albany, NY', 'home.dest=Altdorf, Switzerland', 'home.dest=Amenia, ND', 'home.dest=Antwerp, Belgium / Stanton, OH', 'home.dest=Argentina', 'home.dest=Asarum, Sweden Brooklyn, NY', 'home.dest=Ascot, Berkshire / Rochester, NY', 'home.dest=Auburn, NY', 'home.dest=Aughnacliff, Co Longford, Ireland New York, NY', 'home.dest=Australia Fingal, ND', 'home.dest=Austria', 'home.dest=Austria Niagara Falls, NY', 'home.dest=Austria-Hungary', 'home.dest=Austria-Hungary / Germantown, Philadelphia, PA', 'home.dest=Ballydehob, Co Cork, Ireland New York, NY', 'home.dest=Bangkok, Thailand / Roseville, IL', 'home.dest=Barcelona, Spain / Havana, Cuba', 'home.dest=Barre, Co Washington, VT', 'home.dest=Bayside, Queens, NY', 'home.dest=Belfast', 'home.dest=Belfast, NI', 'home.dest=Belgium  Montreal, PQ', 'home.dest=Belmont, MA', 'home.dest=Bennington, VT', 'home.dest=Berne, Switzerland / Central City, IA', 'home.dest=Birkdale, England Cleveland, Ohio', 'home.dest=Bishopstoke, Hants / Fayette Valley, ID', 'home.dest=Boston, MA', 'home.dest=Bournemouth, England', 'home.dest=Bournemouth, England Newark, NJ', 'home.dest=Bournmouth, England', 'home.dest=Brennes, Norway New York', 'home.dest=Bridgerule, Devon', 'home.dest=Bridgwater, Somerset, England', 'home.dest=Brighton, MA', 'home.dest=Bristol, Avon / Jacksonville, FL', 'home.dest=Bristol, England / New Britain, CT', 'home.dest=Bristol, England Cleveland, OH', 'home.dest=Brockton, MA', 'home.dest=Bromsgrove, England / Montreal, PQ', 'home.dest=Bronx, NY', 'home.dest=Brooklyn, NY', 'home.dest=Broomfield, Chelmsford, England', 'home.dest=Brunswick, ME', 'home.dest=Bryn Mawr, PA', 'home.dest=Bryn Mawr, PA, USA', 'home.dest=Buffalo, NY', 'home.dest=Bulgaria Chicago, IL', 'home.dest=Calgary, AB', 'home.dest=Cambridge, MA', 'home.dest=Cape Town, South Africa / Seattle, WA', 'home.dest=Catford, Kent / Detroit, MI', 'home.dest=Chelsea, London', 'home.dest=Chicago, IL', 'home.dest=Clevedon, England', 'home.dest=Co Athlone, Ireland New York, NY', 'home.dest=Co Clare, Ireland Washington, DC', 'home.dest=Co Cork, Ireland Charlestown, MA', 'home.dest=Co Limerick, Ireland Sherbrooke, PQ', 'home.dest=Co Longford, Ireland New York, NY', 'home.dest=Co Sligo, Ireland New York, NY', 'home.dest=Cooperstown, NY', 'home.dest=Cornwall', 'home.dest=Cornwall / Akron, OH', 'home.dest=Cornwall / Camden, NJ', 'home.dest=Cornwall / Clear Creek, CO', 'home.dest=Cornwall / Hancock, MI', 'home.dest=Cornwall / Houghton, MI', 'home.dest=Cornwall, England Houghton, MI', 'home.dest=Croatia', 'home.dest=Deephaven, MN / Cedar Rapids, IA', 'home.dest=Deer Lodge, MT', 'home.dest=Denmark / New York, NY', 'home.dest=Denmark Hill, Surrey / Chicago', 'home.dest=Denver, CO', 'home.dest=Detroit, MI', 'home.dest=Devon, England Wichita, KS', 'home.dest=Devonport, England', 'home.dest=Dorking, Surrey, England', 'home.dest=Dowagiac, MI', 'home.dest=Duluth, MN', 'home.dest=East Bridgewater, MA', 'home.dest=East Orange, NJ', 'home.dest=East Providence, RI', 'home.dest=Effington Rut, SD', 'home.dest=Elizabeth, NJ', 'home.dest=Elkins Park, PA', 'home.dest=Elmira, NY / Orange, NJ', 'home.dest=England', 'home.dest=England / Bennington, VT', 'home.dest=England / Detroit, MI', 'home.dest=England / Philadelphia, PA', 'home.dest=England / Sacramento, CA', 'home.dest=England / San Francisco, CA', 'home.dest=England Albion, NY', 'home.dest=England Brooklyn, NY', 'home.dest=England New York, NY', 'home.dest=England Oglesby, IL', 'home.dest=England Salt Lake City, Utah', 'home.dest=Finland / Minneapolis, MN', 'home.dest=Finland / Washington, DC', 'home.dest=Folkstone, Kent / New York, NY', 'home.dest=Fond du Lac, WI', 'home.dest=Foresvik, Norway Portland, ND', 'home.dest=Gallipolis, Ohio / ? Paris / New York', 'home.dest=Geneva, Switzerland / Radnor, PA', 'home.dest=Glasgow', 'home.dest=Glasgow / Bangor, ME', 'home.dest=Goteborg, Sweden / Rockford, IL', 'home.dest=Greece', 'home.dest=Green Bay, WI', 'home.dest=Greenport, NY', 'home.dest=Greenwich, CT', 'home.dest=Guernsey', 'home.dest=Guernsey / Elizabeth, NJ', 'home.dest=Guernsey / Montclair, NJ and/or Toledo, Ohio', 'home.dest=Guernsey, England / Edgewood, RI', 'home.dest=Gunnislake, England / Butte, MT', 'home.dest=Guntur, India / Benton Harbour, MI', 'home.dest=Haddenfield, NJ', 'home.dest=Halifax, NS', 'home.dest=Hamilton, ON', 'home.dest=Harrisburg, PA', 'home.dest=Harrow, England', 'home.dest=Harrow-on-the-Hill, Middlesex', 'home.dest=Hartford, CT', 'home.dest=Haverford, PA', 'home.dest=Haverford, PA / Cooperstown, NY', 'home.dest=Helsinki, Finland Ashtabula, Ohio', 'home.dest=Hessle, Yorks', 'home.dest=Hong Kong New York, NY', 'home.dest=Hornsey, England', 'home.dest=Hudson, NY', 'home.dest=Huntington, WV', 'home.dest=Ilford, Essex / Winnipeg, MB', 'home.dest=Ilfracombe, Devon', 'home.dest=Illinois, USA', 'home.dest=India / Pittsburgh, PA', 'home.dest=India / Rapid City, SD', 'home.dest=Indianapolis, IN', 'home.dest=Ireland', 'home.dest=Ireland Chicago, IL', 'home.dest=Ireland New York, NY', 'home.dest=Ireland Philadelphia, PA', 'home.dest=Isle of Wight, England', 'home.dest=Isleworth, England', 'home.dest=Italy Philadelphia, PA', 'home.dest=Jacksonville, FL', 'home.dest=Janjgir, India / Pennsylvania', 'home.dest=Karberg, Sweden Jerome Junction, AZ', 'home.dest=Krakoryd, Sweden Bloomington, IL', 'home.dest=Krakudden, Sweden Moune, IL', 'home.dest=Lake Arthur, Chavez County, NM', 'home.dest=Lakewood, NJ', 'home.dest=Lexington, MA', 'home.dest=Lima, Peru', 'home.dest=Little Onn Hall, Staffs', 'home.dest=Liverpool', 'home.dest=Liverpool / Montreal, PQ', 'home.dest=Liverpool, England Bedford, OH', 'home.dest=London', 'home.dest=London  Vancouver, BC', 'home.dest=London /  East Orange, NJ', 'home.dest=London / Birmingham', 'home.dest=London / Chicago, IL', 'home.dest=London / Fort Byron, NY', 'home.dest=London / Middlesex', 'home.dest=London / New York, NY', 'home.dest=London / Paris', 'home.dest=London / Winnipeg, MB', 'home.dest=London New York, NY', 'home.dest=London, England', 'home.dest=London, England Norfolk, VA', 'home.dest=Los Angeles, CA', 'home.dest=Lower Clapton, Middlesex or Erdington, Birmingham', 'home.dest=Lucca, Italy / California', 'home.dest=Lyndhurst, England', 'home.dest=Madrid, Spain', 'home.dest=Mamaroneck, NY', 'home.dest=Manchester, England', 'home.dest=Medeltorp, Sweden Chicago, IL', 'home.dest=Mexico City, Mexico', 'home.dest=Middleburg Heights, OH', 'home.dest=Milford, NH', 'home.dest=Milwaukee, WI', 'home.dest=Minneapolis, MN', 'home.dest=Montevideo, Uruguay', 'home.dest=Montreal, PQ', 'home.dest=Montreal, PQ / Chesterville, ON', 'home.dest=Moscow / Bronx, NY', 'home.dest=Mt Airy, Philadelphia, PA', 'home.dest=Myren, Sweden New York, NY', 'home.dest=New Forest, England', 'home.dest=New York, NY', 'home.dest=New York, NY /  Stamford CT', 'home.dest=New York, NY / Briarcliff Manor NY', 'home.dest=New York, NY / Greenwich CT', 'home.dest=New York, NY / Ithaca, NY', 'home.dest=Newark, NJ', 'home.dest=Nice, France', 'home.dest=North Evington, England', 'home.dest=Norway Los Angeles, CA', 'home.dest=Norwich / New York, NY', 'home.dest=Oskarshamn, Sweden Minneapolis, MN', 'home.dest=Oslo, Norway Bayonne, NJ', 'home.dest=Oslo, Norway Cameron, WI', 'home.dest=Ottawa, ON', 'home.dest=Paris', 'home.dest=Paris /  New York, NY', 'home.dest=Paris / Haiti', 'home.dest=Paris / Montreal, PQ', 'home.dest=Paris, France', 'home.dest=Paris, France / New York, NY', 'home.dest=Pennsylvania', 'home.dest=Penzance, Cornwall / Akron, OH', 'home.dest=Perkins County, SD', 'home.dest=Petworth, Sussex', 'home.dest=Philadelphia, PA', 'home.dest=Plymouth, Devon / Detroit, MI', 'home.dest=Plymouth, Dorset / Houghton, MI', 'home.dest=Plymouth, England', 'home.dest=Pomeroy, WA', 'home.dest=Portland, OR', 'home.dest=Portugal', 'home.dest=Portugal / Sau Paulo, Brazil', 'home.dest=Providence, RI', 'home.dest=Roachdale, IN', 'home.dest=Rochester, NY', 'home.dest=Rotherfield, Sussex, England Essex Co, MA', 'home.dest=Rotterdam, Netherlands', 'home.dest=Ruotsinphytaa, Finland New York, NY', 'home.dest=Russia', 'home.dest=Russia New York, NY', 'home.dest=San Francisco, CA', 'home.dest=Sarnia, ON', 'home.dest=Scituate, MA', 'home.dest=Seattle, WA', 'home.dest=Sittingbourne, England / San Diego, CA', 'home.dest=Skara, Sweden / Rockford, IL', 'home.dest=Somerset / Bernardsville, NJ', 'home.dest=Southampton', 'home.dest=Southampton / New York, NY', 'home.dest=Southington / Noank, CT', 'home.dest=Spain', 'home.dest=Spain / Havana, Cuba', 'home.dest=Springfield, MA', 'home.dest=St Andrews, Guernsey', \"home.dest=St Anne's-on-Sea, Lancashire\", 'home.dest=St Austall, Cornwall', 'home.dest=St Ives, Cornwall / Calumet, MI', 'home.dest=St Ives, Cornwall / Hancock, MI', 'home.dest=St Ives, Cornwall / Houghton, MI', 'home.dest=St James, Long Island, NY', 'home.dest=St Leonards-on-Sea, England Ohio', 'home.dest=St Louis, MO', 'home.dest=Stanton, IA', 'home.dest=Stockholm, Sweden', 'home.dest=Stockholm, Sweden / Washington, DC', 'home.dest=Stockholm, Sweden New York', 'home.dest=Strood, Kent, England Detroit, MI', 'home.dest=Sweden  Worcester, MA', 'home.dest=Sweden / Arlington, NJ', 'home.dest=Sweden Akeley, MN', 'home.dest=Sweden Chicago, IL', 'home.dest=Sweden Joliet, IL', 'home.dest=Sweden Winnipeg, MN', 'home.dest=Sweden Worcester, MA', 'home.dest=Swindon, England', 'home.dest=Sydney, Australia', 'home.dest=Syria', 'home.dest=Syria Fredericksburg, VA', 'home.dest=Syria Kent, ON', 'home.dest=Syria New York, NY', 'home.dest=Syria Ottawa, ON', 'home.dest=Syria Youngstown, OH', 'home.dest=Tokyo, Japan', 'home.dest=Toronto, ON', 'home.dest=Tranvik, Finland New York', 'home.dest=Treherbert, Cardiff, Wales', 'home.dest=Trenton, NJ', 'home.dest=Tuxedo Park, NY', 'home.dest=UNKNOWN', 'home.dest=Union Hill, NJ', 'home.dest=Vancouver, BC', 'home.dest=Walthamstow, England', 'home.dest=Warwick, England', 'home.dest=Washington, DC', 'home.dest=Waukegan, Chicago, IL', 'home.dest=West Bromwich, England Pontiac, MI', 'home.dest=West Hampstead, London / Neepawa, MB', 'home.dest=West Haven, CT', 'home.dest=West Hoboken, NJ', 'home.dest=Westcliff-on-Sea, Essex', 'home.dest=Weston-Super-Mare / Moose Jaw, SK', 'home.dest=Wiltshire, England Niagara Falls, NY', 'home.dest=Windsor, England New York, NY', 'home.dest=Winnipeg, MB', 'home.dest=Winnipeg, MN', 'home.dest=Woodford County, KY', 'home.dest=Worcester, England', 'home.dest=Worcester, MA', 'home.dest=Yoevil, England / Cottage Grove, OR', 'home.dest=Youngstown, OH', 'home.dest=Zurich, Switzerland', 'pclass=1st', 'pclass=2nd', 'pclass=3rd', 'room=A-11', 'room=A-23', 'room=A-36', 'room=B-18', 'room=B-3', 'room=B-35', 'room=B-49', 'room=B-5', 'room=B-51/3/5', 'room=B-52/4/6', 'room=B-58/60', 'room=B-82/4', 'room=B-86', 'room=B-?', 'room=C-101', 'room=C-103', 'room=C-104', 'room=C-125', 'room=C-126', 'room=C-22', 'room=C-45', 'room=C-51', 'room=C-55 (?C-95)', 'room=C-6', 'room=C-62', 'room=C-7', 'room=C-83', 'room=C-85', 'room=C-87', 'room=C-91', 'room=C-93', 'room=C-97', 'room=C-99', 'room=C26', 'room=D-21/2', 'room=D-35', 'room=D-7', 'room=D-?', 'room=E-101', 'room=E-12', 'room=E-?', 'room=E77', 'room=F-33', 'room=UNKNOWN', 'sex=female', 'sex=male', 'ticket= ', 'ticket=111361 L57 19s 7d', 'ticket=112058 Complimentary', 'ticket=112059', 'ticket=113780 L28 10s', 'ticket=11755 L39 12s', 'ticket=13502 L77', 'ticket=13529 L26 5s', 'ticket=17477 L69 6s', 'ticket=17483', 'ticket=17483 L221 15s 7d', 'ticket=17485', 'ticket=17485 L56 18s 7d', 'ticket=17582 L153 9s 3d', 'ticket=17593', 'ticket=17593 L56 18s 7d', 'ticket=17604 L39 12s', 'ticket=17608', 'ticket=17608 L262 7s 6d', 'ticket=17610 L27 15s 5d', 'ticket=17613 L27 14s 5d', 'ticket=17754', 'ticket=17754 L224 10s 6d', 'ticket=17755 L512 6s', 'ticket=229236 L13', 'ticket=230080 L26', 'ticket=230136 L39', 'ticket=24160 L221', 'ticket=248744 L13', 'ticket=250647', 'ticket=27849', 'ticket=28220 L32 10s', 'ticket=36973 L83 9s 6d', 'ticket=392091', 'ticket=7076', 'ticket=UNKNOWN']\n"
     ]
    }
   ],
   "source": [
    "print vec.get_feature_names()"
   ]
  },
  {
   "cell_type": "code",
   "execution_count": 131,
   "metadata": {
    "collapsed": true
   },
   "outputs": [],
   "source": [
    "# 使用决策树模型依靠所有的特征进行预测，并作性能预测"
   ]
  },
  {
   "cell_type": "code",
   "execution_count": 132,
   "metadata": {
    "collapsed": true
   },
   "outputs": [],
   "source": [
    "from sklearn.tree import DecisionTreeClassifier"
   ]
  },
  {
   "cell_type": "code",
   "execution_count": 133,
   "metadata": {
    "collapsed": true
   },
   "outputs": [],
   "source": [
    "dt = DecisionTreeClassifier(criterion = 'entropy')"
   ]
  },
  {
   "cell_type": "code",
   "execution_count": 134,
   "metadata": {},
   "outputs": [
    {
     "data": {
      "text/plain": [
       "DecisionTreeClassifier(class_weight=None, criterion='entropy', max_depth=None,\n",
       "            max_features=None, max_leaf_nodes=None,\n",
       "            min_impurity_split=1e-07, min_samples_leaf=1,\n",
       "            min_samples_split=2, min_weight_fraction_leaf=0.0,\n",
       "            presort=False, random_state=None, splitter='best')"
      ]
     },
     "execution_count": 134,
     "metadata": {},
     "output_type": "execute_result"
    }
   ],
   "source": [
    "dt.fit(X_train,y_train)"
   ]
  },
  {
   "cell_type": "code",
   "execution_count": 135,
   "metadata": {},
   "outputs": [
    {
     "data": {
      "text/plain": [
       "0.82370820668693012"
      ]
     },
     "execution_count": 135,
     "metadata": {},
     "output_type": "execute_result"
    }
   ],
   "source": [
    "dt.score(X_test,y_test)"
   ]
  },
  {
   "cell_type": "code",
   "execution_count": 136,
   "metadata": {
    "collapsed": true
   },
   "outputs": [],
   "source": [
    "# 从sklearn中导入特征筛选器"
   ]
  },
  {
   "cell_type": "code",
   "execution_count": 137,
   "metadata": {
    "collapsed": true
   },
   "outputs": [],
   "source": [
    "from sklearn import  feature_selection"
   ]
  },
  {
   "cell_type": "code",
   "execution_count": 138,
   "metadata": {
    "collapsed": true
   },
   "outputs": [],
   "source": [
    "# 筛选前20%的特征，使用相同配置的决策树进行预测，并且进行性能评估"
   ]
  },
  {
   "cell_type": "code",
   "execution_count": 139,
   "metadata": {
    "collapsed": true
   },
   "outputs": [],
   "source": [
    "fs = feature_selection.SelectPercentile(feature_selection.chi2,percentile=20)"
   ]
  },
  {
   "cell_type": "code",
   "execution_count": 140,
   "metadata": {
    "collapsed": true
   },
   "outputs": [],
   "source": [
    "X_train_fs = fs.fit_transform(X_train,y_train)"
   ]
  },
  {
   "cell_type": "code",
   "execution_count": 141,
   "metadata": {
    "collapsed": true
   },
   "outputs": [],
   "source": [
    "X_test_fs = fs.transform(X_test)"
   ]
  },
  {
   "cell_type": "code",
   "execution_count": 142,
   "metadata": {},
   "outputs": [
    {
     "data": {
      "text/plain": [
       "0.81458966565349544"
      ]
     },
     "execution_count": 142,
     "metadata": {},
     "output_type": "execute_result"
    }
   ],
   "source": [
    "dt.fit(X_train_fs,y_train)\n",
    "dt.score(X_test_fs,y_test)"
   ]
  },
  {
   "cell_type": "code",
   "execution_count": 143,
   "metadata": {
    "collapsed": true
   },
   "outputs": [],
   "source": [
    "# 从sklearn中导入特征筛选器"
   ]
  },
  {
   "cell_type": "code",
   "execution_count": 144,
   "metadata": {
    "collapsed": true
   },
   "outputs": [],
   "source": [
    "from sklearn.cross_validation import cross_val_score"
   ]
  },
  {
   "cell_type": "code",
   "execution_count": 145,
   "metadata": {
    "collapsed": true
   },
   "outputs": [],
   "source": [
    "import numpy as np"
   ]
  },
  {
   "cell_type": "code",
   "execution_count": 146,
   "metadata": {
    "collapsed": true
   },
   "outputs": [],
   "source": [
    "percentiles = range(1,100,2)"
   ]
  },
  {
   "cell_type": "code",
   "execution_count": 147,
   "metadata": {
    "collapsed": true
   },
   "outputs": [],
   "source": [
    "results = []"
   ]
  },
  {
   "cell_type": "code",
   "execution_count": 148,
   "metadata": {},
   "outputs": [
    {
     "name": "stdout",
     "output_type": "stream",
     "text": [
      "[ 0.85063904  0.85673057  0.87501546  0.88622964  0.86793445  0.86998557\n",
      "  0.86897547  0.87099567  0.87097506  0.86793445  0.86794475  0.86694496\n",
      "  0.86693465  0.86387343  0.86285302  0.86384251  0.86284271  0.86590394\n",
      "  0.86485261  0.86485261  0.8608122   0.86384251  0.87200577  0.86895485\n",
      "  0.86488353  0.86896516  0.86896516  0.87301587  0.87199546  0.87301587\n",
      "  0.86487322  0.86284271  0.86688312  0.86997526  0.86793445  0.86281179\n",
      "  0.87402597  0.86893424  0.87098536  0.86997526  0.86894455  0.86789322\n",
      "  0.86792414  0.86795506  0.86588332  0.86286333  0.85982272  0.85878169\n",
      "  0.86284271  0.85880231]\n"
     ]
    }
   ],
   "source": [
    "for i in percentiles:\n",
    "    fs = feature_selection.SelectPercentile(feature_selection.chi2,percentile=i)\n",
    "    X_train_fs = fs.fit_transform(X_train,y_train)\n",
    "    scores = cross_val_score(dt,X_train_fs,y_train,cv = 5)\n",
    "    results = np.append(results,scores.mean())\n",
    "print results"
   ]
  },
  {
   "cell_type": "code",
   "execution_count": 149,
   "metadata": {
    "collapsed": true
   },
   "outputs": [],
   "source": [
    "# 找到最佳性能的特征筛选百分比"
   ]
  },
  {
   "cell_type": "code",
   "execution_count": 150,
   "metadata": {},
   "outputs": [],
   "source": [
    "opt = np.where(results == results.max())[0]"
   ]
  },
  {
   "cell_type": "code",
   "execution_count": 152,
   "metadata": {},
   "outputs": [
    {
     "ename": "TypeError",
     "evalue": "only integer scalar arrays can be converted to a scalar index",
     "output_type": "error",
     "traceback": [
      "\u001b[0;31m---------------------------------------------------------------------------\u001b[0m",
      "\u001b[0;31mTypeError\u001b[0m                                 Traceback (most recent call last)",
      "\u001b[0;32m<ipython-input-152-a68562b063cb>\u001b[0m in \u001b[0;36m<module>\u001b[0;34m()\u001b[0m\n\u001b[0;32m----> 1\u001b[0;31m \u001b[0;32mprint\u001b[0m \u001b[0;34m'Optimal number of features %d'\u001b[0m\u001b[0;34m%\u001b[0m\u001b[0mpercentiles\u001b[0m\u001b[0;34m[\u001b[0m\u001b[0mopt\u001b[0m\u001b[0;34m]\u001b[0m\u001b[0;34m\u001b[0m\u001b[0m\n\u001b[0m",
      "\u001b[0;31mTypeError\u001b[0m: only integer scalar arrays can be converted to a scalar index"
     ]
    }
   ],
   "source": [
    "print 'Optimal number of features %d'%percentiles[opt]"
   ]
  },
  {
   "cell_type": "code",
   "execution_count": 153,
   "metadata": {},
   "outputs": [],
   "source": [
    "import pylab as pl"
   ]
  },
  {
   "cell_type": "code",
   "execution_count": 154,
   "metadata": {},
   "outputs": [
    {
     "data": {
      "text/plain": [
       "[<matplotlib.lines.Line2D at 0x110735ad0>]"
      ]
     },
     "execution_count": 154,
     "metadata": {},
     "output_type": "execute_result"
    }
   ],
   "source": [
    "pl.plot(percentiles,results)"
   ]
  },
  {
   "cell_type": "code",
   "execution_count": 155,
   "metadata": {},
   "outputs": [
    {
     "data": {
      "text/plain": [
       "<matplotlib.text.Text at 0x11045e9d0>"
      ]
     },
     "execution_count": 155,
     "metadata": {},
     "output_type": "execute_result"
    }
   ],
   "source": [
    "pl.xlabel(\"percentiles of features\")"
   ]
  },
  {
   "cell_type": "code",
   "execution_count": 156,
   "metadata": {},
   "outputs": [
    {
     "data": {
      "text/plain": [
       "<matplotlib.text.Text at 0x1106d2350>"
      ]
     },
     "execution_count": 156,
     "metadata": {},
     "output_type": "execute_result"
    }
   ],
   "source": [
    "pl.ylabel(\"accuracy\")"
   ]
  },
  {
   "cell_type": "code",
   "execution_count": 157,
   "metadata": {},
   "outputs": [
    {
     "data": {
      "image/png": "[encoded data removed]",
      "text/plain": [
       "<matplotlib.figure.Figure at 0x1103c4710>"
      ]
     },
     "metadata": {},
     "output_type": "display_data"
    }
   ],
   "source": [
    "pl.show()"
   ]
  },
  {
   "cell_type": "code",
   "execution_count": null,
   "metadata": {
    "collapsed": true
   },
   "outputs": [],
   "source": []
  }
 ],
 "metadata": {
  "kernelspec": {
   "display_name": "Python 2",
   "language": "python",
   "name": "python2"
  },
  "language_info": {
   "codemirror_mode": {
    "name": "ipython",
    "version": 2
   },
   "file_extension": ".py",
   "mimetype": "text/x-python",
   "name": "python",
   "nbconvert_exporter": "python",
   "pygments_lexer": "ipython2",
   "version": "2.7.13"
  }
 },
 "nbformat": 4,
 "nbformat_minor": 2
}
